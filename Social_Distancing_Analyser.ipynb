{
  "nbformat": 4,
  "nbformat_minor": 0,
  "metadata": {
    "accelerator": "GPU",
    "colab": {
      "name": "Social Distancing Analyser ",
      "provenance": [],
      "collapsed_sections": [],
      "toc_visible": true,
      "include_colab_link": true
    },
    "kernelspec": {
      "display_name": "Python 3",
      "name": "python3"
    },
    "language_info": {
      "name": "python"
    }
  },
  "cells": [
    {
      "cell_type": "markdown",
      "metadata": {
        "id": "view-in-github",
        "colab_type": "text"
      },
      "source": [
        "<a href=\"https://colab.research.google.com/github/SakshiSawant/SocialDistanceAnalyser/blob/main/Social_Distancing_Analyser.ipynb\" target=\"_parent\"><img src=\"https://colab.research.google.com/assets/colab-badge.svg\" alt=\"Open In Colab\"/></a>"
      ]
    },
    {
      "cell_type": "markdown",
      "metadata": {
        "id": "Dq1yB-oGz8lH"
      },
      "source": [
        "# **Connecting the Drive and making the Environment ready for the object detection**"
      ]
    },
    {
      "cell_type": "code",
      "metadata": {
        "colab": {
          "base_uri": "https://localhost:8080/"
        },
        "id": "AimMChzyE5Dp",
        "outputId": "3ebaf4c9-55db-41b6-a167-f52429b7c2a3"
      },
      "source": [
        "#Connecting the colab with google drive\n",
        "from google.colab import drive  \n",
        "drive.mount('/content/gdrive',force_remount=True)  "
      ],
      "execution_count": null,
      "outputs": [
        {
          "output_type": "stream",
          "text": [
            "Mounted at /content/gdrive\n"
          ],
          "name": "stdout"
        }
      ]
    },
    {
      "cell_type": "code",
      "metadata": {
        "id": "yBsZ8q4iFaF3"
      },
      "source": [
        "#To read file from drive in colab\n",
        "!ln -s /content/gdrive/My\\ Drive/ /mydrive "
      ],
      "execution_count": null,
      "outputs": []
    },
    {
      "cell_type": "code",
      "metadata": {
        "colab": {
          "base_uri": "https://localhost:8080/"
        },
        "id": "t1SL0pYeFfzF",
        "outputId": "3b8b85f1-d85c-4d2f-a837-547ed4592a66"
      },
      "source": [
        "%cd /mydrive/yolov4   "
      ],
      "execution_count": null,
      "outputs": [
        {
          "output_type": "stream",
          "text": [
            "/content/gdrive/My Drive/yolov4\n"
          ],
          "name": "stdout"
        }
      ]
    },
    {
      "cell_type": "code",
      "metadata": {
        "id": "fiS-3E_yFlIV",
        "colab": {
          "base_uri": "https://localhost:8080/"
        },
        "outputId": "6ed7327a-7fa6-412f-ae27-db015971d73d"
      },
      "source": [
        "#Neural Network framework \n",
        "!git clone https://github.com/AlexeyAB/darknet"
      ],
      "execution_count": null,
      "outputs": [
        {
          "output_type": "stream",
          "text": [
            "fatal: destination path 'darknet' already exists and is not an empty directory.\n"
          ],
          "name": "stdout"
        }
      ]
    },
    {
      "cell_type": "code",
      "metadata": {
        "colab": {
          "base_uri": "https://localhost:8080/"
        },
        "id": "OyvhPTWaIHwz",
        "outputId": "e6b0dad8-8e66-475d-d549-94f02a59e0d1"
      },
      "source": [
        "%cd darknet"
      ],
      "execution_count": null,
      "outputs": [
        {
          "output_type": "stream",
          "text": [
            "/content/gdrive/My Drive/yolov4/darknet\n"
          ],
          "name": "stdout"
        }
      ]
    },
    {
      "cell_type": "code",
      "metadata": {
        "id": "BDEaK28-0Bia"
      },
      "source": [
        "!chmod +x ./darknet"
      ],
      "execution_count": null,
      "outputs": []
    },
    {
      "cell_type": "code",
      "metadata": {
        "colab": {
          "base_uri": "https://localhost:8080/"
        },
        "id": "5uloUwmUKF05",
        "outputId": "47d6a56a-4ccd-4350-df55-73ea6b83f342"
      },
      "source": [
        "# verify CUDA\n",
        "!/usr/local/cuda/bin/nvcc --version"
      ],
      "execution_count": null,
      "outputs": [
        {
          "output_type": "stream",
          "text": [
            "nvcc: NVIDIA (R) Cuda compiler driver\n",
            "Copyright (c) 2005-2020 NVIDIA Corporation\n",
            "Built on Wed_Jul_22_19:09:09_PDT_2020\n",
            "Cuda compilation tools, release 11.0, V11.0.221\n",
            "Build cuda_11.0_bu.TC445_37.28845127_0\n"
          ],
          "name": "stdout"
        }
      ]
    },
    {
      "cell_type": "markdown",
      "metadata": {
        "id": "KKB3cjF-zszb"
      },
      "source": [
        "# **Testing the YOLOv4 Algorithm on sample images and videos**"
      ]
    },
    {
      "cell_type": "code",
      "metadata": {
        "colab": {
          "base_uri": "https://localhost:8080/"
        },
        "id": "q2Jjv0yRKLPe",
        "outputId": "ab1ed708-f0db-411d-e637-22e4b289a990"
      },
      "source": [
        "# make darknet (builds darknet so that you can then use the darknet executable file to run or train object detectors)\n",
        "!make "
      ],
      "execution_count": null,
      "outputs": [
        {
          "output_type": "stream",
          "text": [
            "chmod +x *.sh\n"
          ],
          "name": "stdout"
        }
      ]
    },
    {
      "cell_type": "code",
      "metadata": {
        "id": "vVtgyY_ELoSf"
      },
      "source": [
        "#Downloading the weights\n",
        "!wget https://github.com/AlexeyAB/darknet/releases/download/darknet_yolo_v3_optimal/yolov4.weights"
      ],
      "execution_count": null,
      "outputs": []
    },
    {
      "cell_type": "code",
      "metadata": {
        "id": "G9Fv0wjCMPYY"
      },
      "source": [
        "# Defining the functions to upload and download files\n",
        "def imShow(path):\n",
        "  import cv2\n",
        "  import matplotlib.pyplot as plt\n",
        "  %matplotlib inline\n",
        "\n",
        "  image = cv2.imread(path)\n",
        "  height, width = image.shape[:2]\n",
        "  resized_image = cv2.resize(image,(3*width, 3*height), interpolation = cv2.INTER_CUBIC)\n",
        "\n",
        "  fig = plt.gcf()\n",
        "  fig.set_size_inches(18, 10)\n",
        "  plt.axis(\"off\")\n",
        "  plt.imshow(cv2.cvtColor(resized_image, cv2.COLOR_BGR2RGB)) \n",
        "  plt.show()\n",
        "\n",
        "# use this to upload files\n",
        "def upload(): \n",
        "  from google.colab import files\n",
        "  uploaded = files.upload() \n",
        "  for name, data in uploaded.items():\n",
        "    with open(name, 'wb') as f:\n",
        "      f.write(data)\n",
        "      print ('saved file', name)\n",
        "\n",
        "# use this to download a file  \n",
        "def download(path):\n",
        "  from google.colab import files\n",
        "  files.download(path)"
      ],
      "execution_count": null,
      "outputs": []
    },
    {
      "cell_type": "code",
      "metadata": {
        "id": "jESyRhd4Nd38"
      },
      "source": [
        "# run darknet detection on test images\n",
        "!./darknet detector test cfg/coco.data cfg/yolov4.cfg yolov4.weights data/person.jpg           "
      ],
      "execution_count": null,
      "outputs": []
    },
    {
      "cell_type": "code",
      "metadata": {
        "id": "GQQrAMdXN22a"
      },
      "source": [
        "# show image using our helper function \n",
        "imShow('predictions.jpg') "
      ],
      "execution_count": null,
      "outputs": []
    },
    {
      "cell_type": "code",
      "metadata": {
        "id": "EZouo3ZDWU8q"
      },
      "source": [
        "# Uploading the image\n",
        "%cd ..\n",
        "upload()\n",
        "%cd darknet "
      ],
      "execution_count": null,
      "outputs": []
    },
    {
      "cell_type": "code",
      "metadata": {
        "id": "uRvm2x8OYZd3"
      },
      "source": [
        "# Detecting the objects of the image\n",
        "!./darknet detector test cfg/coco.data cfg/yolov4.cfg yolov4.weights ../people.jfif\n",
        "imShow('predictions.jpg') "
      ],
      "execution_count": null,
      "outputs": []
    },
    {
      "cell_type": "code",
      "metadata": {
        "id": "yl9e1qWzcZ2d"
      },
      "source": [
        "upload()  "
      ],
      "execution_count": null,
      "outputs": []
    },
    {
      "cell_type": "code",
      "metadata": {
        "id": "Lgf-ZUbqbb4K"
      },
      "source": [
        "!./darknet detector demo cfg/coco.data cfg/yolov4.cfg yolov4.weights -dont_show test.mp4 -i 0 -out_filename results.avi"
      ],
      "execution_count": null,
      "outputs": []
    },
    {
      "cell_type": "code",
      "metadata": {
        "id": "fkPm6t6yj6Ky"
      },
      "source": [
        "# download the video with detections shown \n",
        "download('results.avi') "
      ],
      "execution_count": null,
      "outputs": []
    },
    {
      "cell_type": "markdown",
      "metadata": {
        "id": "NtYHG3gMy60b"
      },
      "source": [
        "# **Analyzing the distance between the people**"
      ]
    },
    {
      "cell_type": "code",
      "metadata": {
        "colab": {
          "base_uri": "https://localhost:8080/"
        },
        "id": "edi6peATgwty",
        "outputId": "012411e2-fcc0-4816-935a-9f0ee1bd69de"
      },
      "source": [
        "!make "
      ],
      "execution_count": null,
      "outputs": [
        {
          "output_type": "stream",
          "text": [
            "chmod +x *.sh\n"
          ],
          "name": "stdout"
        }
      ]
    },
    {
      "cell_type": "code",
      "metadata": {
        "id": "HLR2BcTukp0E"
      },
      "source": [
        "!chmod +x ./darknet"
      ],
      "execution_count": null,
      "outputs": []
    },
    {
      "cell_type": "code",
      "metadata": {
        "colab": {
          "base_uri": "https://localhost:8080/"
        },
        "id": "VfzuT8dXh0KS",
        "outputId": "2594e1c3-7503-41c0-f83c-6203cf1fda6a"
      },
      "source": [
        "#Checking the files\n",
        "%ls "
      ],
      "execution_count": null,
      "outputs": [
        {
          "output_type": "stream",
          "text": [
            " \u001b[0m\u001b[01;34m3rdparty\u001b[0m/                \u001b[01;32mimage_yolov3.sh\u001b[0m*         \u001b[01;34msrc\u001b[0m/\n",
            " app.py                   \u001b[01;32mimage_yolov4.sh\u001b[0m*         \u001b[01;34mstatic\u001b[0m/\n",
            " \u001b[01;34mbackup\u001b[0m/                  \u001b[01;34minclude\u001b[0m/                 \u001b[01;34mtemplates\u001b[0m/\n",
            " \u001b[01;34mbuild\u001b[0m/                   \u001b[01;32mjson_mjpeg_streams.sh\u001b[0m*   test2_output.avi\n",
            " build.ps1                libdarknet.so            test.mp4\n",
            " camera.py                LICENSE                  Untitled\n",
            " \u001b[01;34mcfg\u001b[0m/                     Makefile                'Untitled (1)'\n",
            " \u001b[01;34mcmake\u001b[0m/                   \u001b[01;32mnet_cam_v3.sh\u001b[0m*           uselib\n",
            " CMakeLists.txt           \u001b[01;32mnet_cam_v4.sh\u001b[0m*           vcpkg.json\n",
            " \u001b[01;32mdarknet\u001b[0m*                 \u001b[01;34mobj\u001b[0m/                     \u001b[01;32mvideo_yolov3.sh\u001b[0m*\n",
            " DarknetConfig.cmake.in   predictions.jpg          \u001b[01;32mvideo_yolov4.sh\u001b[0m*\n",
            " darknet_images.py        \u001b[01;34m__pycache__\u001b[0m/             vid.mp4\n",
            " darknet.py               README.md                yolov4.weights\n",
            " darknet_video.py         \u001b[01;34mresults\u001b[0m/\n",
            " \u001b[01;34mdata\u001b[0m/                    \u001b[01;34mscripts\u001b[0m/\n"
          ],
          "name": "stdout"
        }
      ]
    },
    {
      "cell_type": "code",
      "metadata": {
        "id": "ISzbyhSjh6Es",
        "colab": {
          "base_uri": "https://localhost:8080/"
        },
        "outputId": "10002568-c887-4a0d-8d2f-7267bd671ff0"
      },
      "source": [
        "%cd ..\n",
        " "
      ],
      "execution_count": null,
      "outputs": [
        {
          "output_type": "stream",
          "text": [
            "/content/gdrive/My Drive/yolov4\n"
          ],
          "name": "stdout"
        }
      ]
    },
    {
      "cell_type": "code",
      "metadata": {
        "colab": {
          "base_uri": "https://localhost:8080/"
        },
        "id": "EfqEG6DO0PMH",
        "outputId": "79543107-4aa6-4b53-b439-7b57eab5c6db"
      },
      "source": [
        "%cd darknet"
      ],
      "execution_count": null,
      "outputs": [
        {
          "output_type": "stream",
          "text": [
            "/content/gdrive/My Drive/yolov4/darknet\n"
          ],
          "name": "stdout"
        }
      ]
    },
    {
      "cell_type": "code",
      "metadata": {
        "colab": {
          "base_uri": "https://localhost:8080/"
        },
        "id": "4nevf8hhjeot",
        "outputId": "5f25ebce-ec66-4ffa-8067-88e0bc89a5a7"
      },
      "source": [
        "%cd /mydrive/yolov4 "
      ],
      "execution_count": null,
      "outputs": [
        {
          "output_type": "stream",
          "text": [
            "/content/gdrive/My Drive/yolov4\n"
          ],
          "name": "stdout"
        }
      ]
    },
    {
      "cell_type": "code",
      "metadata": {
        "colab": {
          "base_uri": "https://localhost:8080/"
        },
        "id": "k9nzX5xZjgrv",
        "outputId": "63d5daaf-710b-4a94-a5f2-333de127da11"
      },
      "source": [
        "%cd darknet"
      ],
      "execution_count": null,
      "outputs": [
        {
          "output_type": "stream",
          "text": [
            "/content/gdrive/My Drive/yolov4/darknet\n"
          ],
          "name": "stdout"
        }
      ]
    },
    {
      "cell_type": "code",
      "metadata": {
        "id": "wGTpZYxydA82"
      },
      "source": [
        "#Importing the libraries"
      ],
      "execution_count": null,
      "outputs": []
    },
    {
      "cell_type": "code",
      "metadata": {
        "id": "6oiT30_dc6d9"
      },
      "source": [
        "from ctypes import *\n",
        "import math\n",
        "import random\n",
        "import os\n",
        "import cv2\n",
        "import numpy as np\n",
        "import time\n",
        "import darknet\n",
        "from itertools import combinations"
      ],
      "execution_count": null,
      "outputs": []
    },
    {
      "cell_type": "code",
      "metadata": {
        "id": "FaKzULI8dIah"
      },
      "source": [
        "def is_close(p1, p2):\n",
        "    \"\"\"\n",
        "    Calculate Euclidean Distance between two points\n",
        "    p1, p2 = two points for calculating Euclidean Distance\n",
        "    dst = Euclidean Distance between two 2d points\n",
        "    \"\"\"\n",
        "    dst = math.sqrt(p1**2 + p2**2)\n",
        "    return dst "
      ],
      "execution_count": null,
      "outputs": []
    },
    {
      "cell_type": "code",
      "metadata": {
        "id": "gelDjssadMJN"
      },
      "source": [
        "def convertBack(x, y, w, h): \n",
        "    \"\"\"\n",
        "    Converts center coordinates to rectangle coordinates\n",
        "    x, y = midpoint of bbox\n",
        "    w, h = width, height of the bbox\n",
        "    xmin, ymin, xmax, ymax\n",
        "    \"\"\"\n",
        "    xmin = int(round(x - (w / 2)))\n",
        "    xmax = int(round(x + (w / 2)))\n",
        "    ymin = int(round(y - (h / 2)))\n",
        "    ymax = int(round(y + (h / 2)))\n",
        "    return xmin, ymin, xmax, ymax\n"
      ],
      "execution_count": null,
      "outputs": []
    },
    {
      "cell_type": "code",
      "metadata": {
        "id": "hraVR8HCdQyA"
      },
      "source": [
        "def cvBoxes(detections, img):\n",
        "    \"\"\"\n",
        "    detections = total detections in one frame\n",
        "    img = image from detect_image method of darknet\n",
        "    img with bounding box\n",
        "    \"\"\"\n",
        "\n",
        "    # 3. Filtering the person class from detections and get bounding box centroid for each person detection\n",
        "\n",
        "    if len(detections) > 0:  \t\t\t\t\t\t# At least 1 detection in the image and check detection presence in a frame  \n",
        "        centroid_dict = dict() \t\t\t\t\t\t# Function creates a dictionary and calls it centroid_dict\n",
        "        objectId = 0\t\t\t\t\t\t\t\t# We inialize a variable called ObjectId and set it to 0\n",
        "        for detection in detections:\t\t\t\t# In this if statement, we filter all the detections for persons only\n",
        "            # Check for the only person name tag \n",
        "            name_tag = detection[0]   # Coco file has string of all the names\n",
        "            if name_tag == 'person':                \n",
        "                x, y, w, h = detection[2][0],\\\n",
        "                            detection[2][1],\\\n",
        "                            detection[2][2],\\\n",
        "                            detection[2][3]      \t# Store the center points of the detections\n",
        "                xmin, ymin, xmax, ymax = convertBack(float(x), float(y), float(w), float(h))   # Convert from center coordinates to rectangular coordinates, We use floats to ensure the precision of the BBox            \n",
        "                # Append center point of bbox for persons detected.\n",
        "                centroid_dict[objectId] = (int(x), int(y), xmin, ymin, xmax, ymax) # Create dictionary of tuple with 'objectId' as the index center points and bbox\n",
        "                objectId += 1 #Increment the index for each detection      \n",
        "    \n",
        "    # 3. Check which person bounding box are close to each other\n",
        "\n",
        "        red_zone_list = [] # List containing which Object id is in under threshold distance condition. \n",
        "        red_line_list = []\n",
        "        for (id1, p1), (id2, p2) in combinations(centroid_dict.items(), 2): # Get all the combinations of close detections, #List of multiple items - id1 1, points 2, 1,3\n",
        "            dx, dy = p1[0] - p2[0], p1[1] - p2[1]  \t# Check the difference between centroid x: 0, y :1\n",
        "            distance = is_close(dx, dy) \t\t\t# Calculates the Euclidean distance\n",
        "            if distance < 75.0:\t\t\t\t\t\t# Set our social distance threshold - If they meet this condition then..\n",
        "                if id1 not in red_zone_list:\n",
        "                    red_zone_list.append(id1)       #  Add Id to a list\n",
        "                    red_line_list.append(p1[0:2])   #  Add points to the list\n",
        "                if id2 not in red_zone_list:\n",
        "                    red_zone_list.append(id2)\t\t# Same for the second id \n",
        "                    red_line_list.append(p2[0:2])\n",
        "        \n",
        "        for idx, box in centroid_dict.items():  # dict (1(key):red(value), 2 blue)  idx - key  box - value\n",
        "            if idx in red_zone_list:   # if id is in red zone list\n",
        "                cv2.rectangle(img, (box[2], box[3]), (box[4], box[5]), (255, 0, 0), 2) # Create Red bounding boxes  #starting point, ending point size of 2\n",
        "            else:\n",
        "                cv2.rectangle(img, (box[2], box[3]), (box[4], box[5]), (0, 255, 0), 2) # Create Green bounding boxes\n",
        "\n",
        "\n",
        "    \t# 3. Display risk analytics and risk indicators\n",
        "    \n",
        "        text = \"No of at-risk people: %s\" % str(len(red_zone_list)) \t\t\t# Count People at Risk\n",
        "        location = (10,25)\t\t\t\t\t\t\t\t\t\t\t\t# Set the location of the displayed text\n",
        "        cv2.putText(img, text, location, cv2.FONT_HERSHEY_SIMPLEX, 1, (246,86,86), 2, cv2.LINE_AA)  # Display Text\n",
        "\n",
        "        for check in range(0, len(red_line_list)-1):\t\t\t\t\t# Draw line between nearby bboxes iterate through redlist items\n",
        "            start_point = red_line_list[check] \n",
        "            end_point = red_line_list[check+1]\n",
        "            check_line_x = abs(end_point[0] - start_point[0])   \t\t# Calculate the line coordinates for x  \n",
        "            check_line_y = abs(end_point[1] - start_point[1])\t\t\t# Calculate the line coordinates for y\n",
        "            if (check_line_x < 75) and (check_line_y < 25):\t\t\t\t# If both are We check that the lines are below our threshold distance.\n",
        "                cv2.line(img, start_point, end_point, (255, 0, 0), 2)   # Only above the threshold lines are displayed. \n",
        "        #=================================================================#\n",
        "    return img"
      ],
      "execution_count": null,
      "outputs": []
    },
    {
      "cell_type": "code",
      "metadata": {
        "id": "4P_QcbvKdbVe"
      },
      "source": [
        "netMain = None\n",
        "metaMain = None \n",
        "altNames = None "
      ],
      "execution_count": null,
      "outputs": []
    },
    {
      "cell_type": "code",
      "metadata": {
        "id": "wLXcqNc8df-r"
      },
      "source": [
        "def YOLO(videoname):\n",
        "    \"\"\"\n",
        "    Perform Object detection\n",
        "    \"\"\"\n",
        "    \n",
        "    global metaMain, netMain, altNames, namesList\n",
        "    configPath = \"./cfg/yolov4.cfg\"\n",
        "    weightPath = \"./yolov4.weights\"\n",
        "    metaPath = \"./cfg/coco.data\"\n",
        "    if not os.path.exists(configPath):\n",
        "        raise ValueError(\"Invalid config path `\" +\n",
        "                         os.path.abspath(configPath)+\"`\")\n",
        "    if not os.path.exists(weightPath):\n",
        "        raise ValueError(\"Invalid weight path `\" +\n",
        "                         os.path.abspath(weightPath)+\"`\")\n",
        "    if not os.path.exists(metaPath):\n",
        "        raise ValueError(\"Invalid data file path `\" +\n",
        "                         os.path.abspath(metaPath)+\"`\")\n",
        "    if netMain is None:\n",
        "        netMain = darknet.load_net_custom(configPath.encode(\n",
        "            \"ascii\"), weightPath.encode(\"ascii\"), 0, 1)  # batch size = 1\n",
        "    if metaMain is None:\n",
        "        metaMain = darknet.load_meta(metaPath.encode(\"ascii\"))\n",
        "    if altNames is None:\n",
        "        try:\n",
        "            with open(metaPath) as metaFH:\n",
        "                metaContents = metaFH.read()\n",
        "                import re\n",
        "                match = re.search(\"names *= *(.*)$\", metaContents, \n",
        "                                  re.IGNORECASE | re.MULTILINE)\n",
        "                if match:\n",
        "                    result = match.group(1)\n",
        "                else:\n",
        "                    result = None\n",
        "                try:\n",
        "                    if os.path.exists(result):\n",
        "                        with open(result) as namesFH:\n",
        "                            namesList = namesFH.read().strip().split(\"\\n\")\n",
        "                            altNames = [x.strip() for x in namesList]\n",
        "                except TypeError:\n",
        "                    pass\n",
        "        except Exception:\n",
        "            pass\n",
        "    \n",
        "    uploadedvideo = videoname\n",
        "    cap = cv2.VideoCapture(uploadedvideo)\n",
        "    frame_width = int(cap.get(3))\n",
        "    frame_height = int(cap.get(4))\n",
        "    new_height, new_width = frame_height // 2, frame_width // 2\n",
        " \n",
        "  # print(\"Video Reolution: \",(width, height))\n",
        "    out = cv2.VideoWriter(\n",
        "            \"test2_output.avi\", cv2.VideoWriter_fourcc(*\"MJPG\"), 10.0,\n",
        "            (new_width, new_height))\n",
        "    \n",
        "    # print(\"Starting the YOLO loop...\")\n",
        "\n",
        "    # Create an image we reuse for each detect\n",
        "    darknet_image = darknet.make_image(new_width, new_height, 3)\n",
        "    \n",
        "    while True:\n",
        "        prev_time = time.time()\n",
        "        ret, frame_read = cap.read()\n",
        "        # Check if frame present :: 'ret' returns True if frame present, otherwise break the loop.\n",
        "        if not ret:\n",
        "            break\n",
        "\n",
        "        frame_rgb = cv2.cvtColor(frame_read, cv2.COLOR_BGR2RGB)\n",
        "        frame_resized = cv2.resize(frame_rgb,\n",
        "                                   (new_width, new_height),\n",
        "                                   interpolation=cv2.INTER_LINEAR)\n",
        "\n",
        "        darknet.copy_image_from_bytes(darknet_image,frame_resized.tobytes())\n",
        "\n",
        "        detections = darknet.detect_image(netMain, namesList, darknet_image, thresh=0.25)\n",
        "        image = cvBoxes(detections, frame_resized)\n",
        "        image = cv2.cvtColor(image, cv2.COLOR_BGR2RGB)\n",
        "        print(1/(time.time()-prev_time))\n",
        "        #cv2.imshow('Demo', image)\n",
        "        cv2.waitKey(3)\n",
        "        out.write(image)\n",
        "\n",
        "    cap.release()\n",
        "    out.release()\n",
        "    print(\"Video Write Completed...\")\n",
        "\n",
        "\n",
        "    out = cv2.VideoCapture(\"test2_output.avi\")  \n",
        "    while(out.isOpened()):\n",
        "      # Capture frame-by-frame\n",
        "        ret, img = out.read()\n",
        "        if ret == True:\n",
        "            img = cv2.resize(img, (0,0), fx=0.5, fy=0.5) \n",
        "            frame = cv2.imencode('.jpg', img)[1].tobytes()\n",
        "            yield (b'--frame\\r\\n'b'Content-Type: image/jpeg\\r\\n\\r\\n' + frame + b'\\r\\n')\n",
        "            time.sleep(0.1) \n",
        "        else: \n",
        "            break\n",
        "    frame_width = int(out.get(3))\n",
        "    frame_height = int(out.get(4))\n",
        "    new_height, new_width = frame_height // 2, frame_width // 2\n"
      ],
      "execution_count": null,
      "outputs": []
    },
    {
      "cell_type": "code",
      "metadata": {
        "id": "BglTgMZ0jliF"
      },
      "source": [
        "#Running the python file\n",
        "!python app.py"
      ],
      "execution_count": null,
      "outputs": []
    },
    {
      "cell_type": "code",
      "metadata": {
        "colab": {
          "base_uri": "https://localhost:8080/",
          "height": 17
        },
        "id": "lI5Rlrn-x-WP",
        "outputId": "1a9befce-d448-490c-a63f-d50f52273306"
      },
      "source": [
        "download('test2_output.avi')"
      ],
      "execution_count": null,
      "outputs": [
        {
          "output_type": "display_data",
          "data": {
            "application/javascript": [
              "\n",
              "    async function download(id, filename, size) {\n",
              "      if (!google.colab.kernel.accessAllowed) {\n",
              "        return;\n",
              "      }\n",
              "      const div = document.createElement('div');\n",
              "      const label = document.createElement('label');\n",
              "      label.textContent = `Downloading \"${filename}\": `;\n",
              "      div.appendChild(label);\n",
              "      const progress = document.createElement('progress');\n",
              "      progress.max = size;\n",
              "      div.appendChild(progress);\n",
              "      document.body.appendChild(div);\n",
              "\n",
              "      const buffers = [];\n",
              "      let downloaded = 0;\n",
              "\n",
              "      const channel = await google.colab.kernel.comms.open(id);\n",
              "      // Send a message to notify the kernel that we're ready.\n",
              "      channel.send({})\n",
              "\n",
              "      for await (const message of channel.messages) {\n",
              "        // Send a message to notify the kernel that we're ready.\n",
              "        channel.send({})\n",
              "        if (message.buffers) {\n",
              "          for (const buffer of message.buffers) {\n",
              "            buffers.push(buffer);\n",
              "            downloaded += buffer.byteLength;\n",
              "            progress.value = downloaded;\n",
              "          }\n",
              "        }\n",
              "      }\n",
              "      const blob = new Blob(buffers, {type: 'application/binary'});\n",
              "      const a = document.createElement('a');\n",
              "      a.href = window.URL.createObjectURL(blob);\n",
              "      a.download = filename;\n",
              "      div.appendChild(a);\n",
              "      a.click();\n",
              "      div.remove();\n",
              "    }\n",
              "  "
            ],
            "text/plain": [
              "<IPython.core.display.Javascript object>"
            ]
          },
          "metadata": {
            "tags": []
          }
        },
        {
          "output_type": "display_data",
          "data": {
            "application/javascript": [
              "download(\"download_8e7dac61-e758-496f-b688-d294dc71361e\", \"test2_output.avi\", 14014272)"
            ],
            "text/plain": [
              "<IPython.core.display.Javascript object>"
            ]
          },
          "metadata": {
            "tags": []
          }
        }
      ]
    },
    {
      "cell_type": "markdown",
      "metadata": {
        "id": "W3l7lR_wm6PW"
      },
      "source": [
        "# **Deployment**\n",
        "\n",
        "Deploying the model through Flask using ngrok."
      ]
    },
    {
      "cell_type": "code",
      "metadata": {
        "colab": {
          "base_uri": "https://localhost:8080/"
        },
        "id": "bftFJxjkxCt5",
        "outputId": "0b44bb1c-0ea1-4cc1-8d96-46c699440e50"
      },
      "source": [
        "#Checking the files\n",
        "%ls "
      ],
      "execution_count": null,
      "outputs": [
        {
          "output_type": "stream",
          "text": [
            " \u001b[0m\u001b[01;34m3rdparty\u001b[0m/                \u001b[01;32mimage_yolov3.sh\u001b[0m*         \u001b[01;34msrc\u001b[0m/\n",
            " app.py                   \u001b[01;32mimage_yolov4.sh\u001b[0m*         \u001b[01;34mstatic\u001b[0m/\n",
            " \u001b[01;34mbackup\u001b[0m/                  \u001b[01;34minclude\u001b[0m/                 \u001b[01;34mtemplates\u001b[0m/\n",
            " \u001b[01;34mbuild\u001b[0m/                   \u001b[01;32mjson_mjpeg_streams.sh\u001b[0m*   test2_output.avi\n",
            " build.ps1                libdarknet.so            test.mp4\n",
            " camera.py                LICENSE                  Untitled\n",
            " \u001b[01;34mcfg\u001b[0m/                     Makefile                'Untitled (1)'\n",
            " \u001b[01;34mcmake\u001b[0m/                   \u001b[01;32mnet_cam_v3.sh\u001b[0m*           uselib\n",
            " CMakeLists.txt           \u001b[01;32mnet_cam_v4.sh\u001b[0m*           vcpkg.json\n",
            " \u001b[01;32mdarknet\u001b[0m*                 \u001b[01;34mobj\u001b[0m/                     \u001b[01;32mvideo_yolov3.sh\u001b[0m*\n",
            " DarknetConfig.cmake.in   predictions.jpg          \u001b[01;32mvideo_yolov4.sh\u001b[0m*\n",
            " darknet_images.py        \u001b[01;34m__pycache__\u001b[0m/             vid.mp4\n",
            " darknet.py               README.md                yolov4.weights\n",
            " darknet_video.py         \u001b[01;34mresults\u001b[0m/\n",
            " \u001b[01;34mdata\u001b[0m/                    \u001b[01;34mscripts\u001b[0m/\n"
          ],
          "name": "stdout"
        }
      ]
    },
    {
      "cell_type": "code",
      "metadata": {
        "colab": {
          "base_uri": "https://localhost:8080/"
        },
        "id": "iUCyWb2JnMf0",
        "outputId": "28ef9021-4b64-4fca-ab86-62c43985eb2c"
      },
      "source": [
        "!pip install flask-ngrok"
      ],
      "execution_count": null,
      "outputs": [
        {
          "output_type": "stream",
          "text": [
            "Collecting flask-ngrok\n",
            "  Downloading flask_ngrok-0.0.25-py3-none-any.whl (3.1 kB)\n",
            "Requirement already satisfied: Flask>=0.8 in /usr/local/lib/python3.7/dist-packages (from flask-ngrok) (1.1.4)\n",
            "Requirement already satisfied: requests in /usr/local/lib/python3.7/dist-packages (from flask-ngrok) (2.23.0)\n",
            "Requirement already satisfied: Jinja2<3.0,>=2.10.1 in /usr/local/lib/python3.7/dist-packages (from Flask>=0.8->flask-ngrok) (2.11.3)\n",
            "Requirement already satisfied: click<8.0,>=5.1 in /usr/local/lib/python3.7/dist-packages (from Flask>=0.8->flask-ngrok) (7.1.2)\n",
            "Requirement already satisfied: itsdangerous<2.0,>=0.24 in /usr/local/lib/python3.7/dist-packages (from Flask>=0.8->flask-ngrok) (1.1.0)\n",
            "Requirement already satisfied: Werkzeug<2.0,>=0.15 in /usr/local/lib/python3.7/dist-packages (from Flask>=0.8->flask-ngrok) (1.0.1)\n",
            "Requirement already satisfied: MarkupSafe>=0.23 in /usr/local/lib/python3.7/dist-packages (from Jinja2<3.0,>=2.10.1->Flask>=0.8->flask-ngrok) (2.0.1)\n",
            "Requirement already satisfied: idna<3,>=2.5 in /usr/local/lib/python3.7/dist-packages (from requests->flask-ngrok) (2.10)\n",
            "Requirement already satisfied: chardet<4,>=3.0.2 in /usr/local/lib/python3.7/dist-packages (from requests->flask-ngrok) (3.0.4)\n",
            "Requirement already satisfied: urllib3!=1.25.0,!=1.25.1,<1.26,>=1.21.1 in /usr/local/lib/python3.7/dist-packages (from requests->flask-ngrok) (1.24.3)\n",
            "Requirement already satisfied: certifi>=2017.4.17 in /usr/local/lib/python3.7/dist-packages (from requests->flask-ngrok) (2021.5.30)\n",
            "Installing collected packages: flask-ngrok\n",
            "Successfully installed flask-ngrok-0.0.25\n"
          ],
          "name": "stdout"
        }
      ]
    },
    {
      "cell_type": "code",
      "metadata": {
        "id": "8KHUzYvtpJxs"
      },
      "source": [
        "from flask_ngrok import run_with_ngrok\n",
        "from flask import Flask  "
      ],
      "execution_count": null,
      "outputs": []
    },
    {
      "cell_type": "code",
      "metadata": {
        "id": "sOPvnzbLyGym",
        "colab": {
          "base_uri": "https://localhost:8080/"
        },
        "outputId": "61673e64-967d-4d88-d301-26d4793b4524"
      },
      "source": [
        "import cv2\n",
        "from flask import Flask, render_template, Response,request\n",
        "\n",
        "app = Flask(__name__, template_folder='/content/gdrive/MyDrive/yolov4/darknet/templates')\n",
        "run_with_ngrok(app)\n",
        "\n",
        "@app.route('/')\n",
        "def index():\n",
        "    \"\"\"Video streaming home page.\"\"\"\n",
        "    return render_template('index.html')\n",
        "\n",
        "@app.route('/video_feed')\n",
        "def video_feed():\n",
        "    video = \"test.mp4\"\n",
        "    #video = \"people.mp4\"\n",
        "\n",
        "    \"\"\"Video streaming route. Put this in the src attribute of an img tag.\"\"\"\n",
        "    return Response(YOLO(video),\n",
        "                    mimetype='multipart/x-mixed-replace; boundary=frame')\n",
        "\n",
        "@app.route('/website')\n",
        "def website():\n",
        "    \"\"\"Video streaming home page.\"\"\"\n",
        "    return render_template('website.html')\n",
        "\n",
        "@app.route('/about')\n",
        "def about():\n",
        "    \"\"\"Video streaming home page.\"\"\"\n",
        "    return render_template('about.html')\n",
        "\n",
        "@app.route('/covidmeasure')\n",
        "def covidmeasure():\n",
        "    \"\"\"Video streaming home page.\"\"\"\n",
        "    return render_template('covidmeasure.html')\n",
        "\n",
        "\n",
        "@app.route('/upload')\n",
        "def upload():\n",
        "    \"\"\"Video streaming home page.\"\"\"\n",
        "    return render_template('upload.html') \n",
        "\n",
        "@app.route('/uploadedvideo')\n",
        "def uploadedvideo():\n",
        "  #video = \"people.mp4\" \n",
        "  #video = \"check.mp4\"\n",
        "  video = \"vid.mp4\"\n",
        "  return Response(YOLO(video),\n",
        "                    mimetype='multipart/x-mixed-replace; boundary=frame')\n",
        "\n",
        "\n",
        "@app.route('/live')\n",
        "def live():\n",
        "    \"\"\"Video streaming home page.\"\"\"\n",
        "    return render_template('live.html')\n",
        "\n",
        "\n",
        "@app.route('/checkLive')\n",
        "def checkLive():\n",
        "  video_width = 300\n",
        "  video_path = record_video()    \n",
        "  video_file = open(video_path, \"r+b\").read()\n",
        "  video_url = f\"data:video/mp4;base64,{b64encode(video_file).decode()}\"\n",
        "\n",
        "        \n",
        "\n",
        "\n",
        "app.run();"
      ],
      "execution_count": null,
      "outputs": [
        {
          "output_type": "stream",
          "text": [
            " * Serving Flask app \"__main__\" (lazy loading)\n",
            " * Environment: production\n",
            "\u001b[31m   WARNING: This is a development server. Do not use it in a production deployment.\u001b[0m\n",
            "\u001b[2m   Use a production WSGI server instead.\u001b[0m\n",
            " * Debug mode: off\n"
          ],
          "name": "stdout"
        },
        {
          "output_type": "stream",
          "text": [
            " * Running on http://127.0.0.1:5000/ (Press CTRL+C to quit)\n"
          ],
          "name": "stderr"
        },
        {
          "output_type": "stream",
          "text": [
            " * Running on http://d0ec19b0c020.ngrok.io\n",
            " * Traffic stats available on http://127.0.0.1:4040\n"
          ],
          "name": "stdout"
        },
        {
          "output_type": "stream",
          "text": [
            "127.0.0.1 - - [28/Jul/2021 09:13:29] \"\u001b[37mGET / HTTP/1.1\u001b[0m\" 200 -\n",
            "127.0.0.1 - - [28/Jul/2021 09:13:29] \"\u001b[33mGET /docs/5.0/dist/css/bootstrap.min.css HTTP/1.1\u001b[0m\" 404 -\n",
            "127.0.0.1 - - [28/Jul/2021 09:13:30] \"\u001b[37mGET /static/1.1.png HTTP/1.1\u001b[0m\" 200 -\n",
            "127.0.0.1 - - [28/Jul/2021 09:13:30] \"\u001b[33mGET /docs/5.0/dist/css/bootstrap.min.css HTTP/1.1\u001b[0m\" 404 -\n"
          ],
          "name": "stderr"
        },
        {
          "output_type": "stream",
          "text": [
            "6.330633123082194\n",
            "12.148986644035002\n",
            "12.51119781412941\n",
            "12.867581505649483\n",
            "15.798290714186168\n",
            "15.936834825957604\n",
            "16.74386222644492\n",
            "17.038934026649333\n",
            "16.773391666699993\n",
            "16.137524527721133\n",
            "17.180898388537067\n",
            "17.334126826687825\n",
            "17.053898448427283\n",
            "17.352916352924627\n",
            "17.60685081017547\n",
            "17.335989617346307\n",
            "18.56700058875348\n",
            "18.898113479587103\n",
            "18.33872145439918\n",
            "19.27502837736612\n",
            "18.638286148500026\n",
            "19.092876424237183\n",
            "18.081078750883727\n",
            "17.75877924651328\n",
            "18.274162277090113\n",
            "19.25927422502422\n",
            "18.226278006639898\n",
            "18.89113388131967\n"
          ],
          "name": "stdout"
        },
        {
          "output_type": "stream",
          "text": [
            "127.0.0.1 - - [28/Jul/2021 09:13:46] \"\u001b[37mGET /live HTTP/1.1\u001b[0m\" 200 -\n"
          ],
          "name": "stderr"
        },
        {
          "output_type": "stream",
          "text": [
            "17.72980284738426\n",
            "19.02592854680384\n",
            "17.5838947558179\n",
            "18.947629007557723\n",
            "18.396312232178495\n",
            "19.070045739331277\n",
            "18.292812065228294\n",
            "19.012819350510416\n"
          ],
          "name": "stdout"
        },
        {
          "output_type": "stream",
          "text": [
            "127.0.0.1 - - [28/Jul/2021 09:13:47] \"\u001b[33mGET /favicon.ico HTTP/1.1\u001b[0m\" 404 -\n"
          ],
          "name": "stderr"
        },
        {
          "output_type": "stream",
          "text": [
            "17.753592577385916\n",
            "18.48101801261941\n",
            "18.36875873153513\n",
            "17.830954061200718\n",
            "17.23186143202248\n",
            "18.521332874087026\n",
            "18.343854554360615\n",
            "18.480122310685\n",
            "17.14332893268645\n",
            "18.25610669080906\n",
            "18.467998168304625\n",
            "18.740802301993693\n",
            "17.630385620969978\n",
            "18.478656803873452\n",
            "18.30910194121781\n",
            "18.333190548207465\n",
            "17.923227143559174\n",
            "18.767468499427263\n",
            "18.576621904120753\n",
            "18.332148866889575\n",
            "18.134394050758786\n",
            "18.49364850505077\n",
            "18.256821871776232\n",
            "18.801118840995482\n",
            "18.13447245653706\n",
            "17.05154119474099\n",
            "18.43998645897906\n",
            "18.447123398528383\n",
            "17.793963048596822\n",
            "18.30231096837255\n",
            "18.340485633453\n",
            "18.55459805708421\n",
            "17.108644664439524\n",
            "18.560509779626514\n",
            "18.5808189321012\n",
            "18.861740065026463\n",
            "17.670271522760306\n",
            "18.27352534973794\n",
            "18.55968848179123\n",
            "17.652125971659324\n",
            "17.87137293667499\n",
            "17.12156491354114\n",
            "17.52760795162497\n",
            "18.254994298447958\n",
            "17.31301932197653\n",
            "18.217095205003474\n",
            "18.30127279311985\n",
            "18.347144456886898\n",
            "17.504273504273506\n",
            "18.39050462798539\n",
            "18.40034744918775\n",
            "18.427914905582455\n",
            "17.50573465333311\n",
            "18.88858165769742\n",
            "18.335915505272176\n",
            "18.66466119909754\n",
            "17.43862829393226\n",
            "16.604989053536716\n",
            "18.301751936293225\n",
            "18.671308187803543\n",
            "17.12058648249288\n",
            "17.971378134265688\n",
            "18.19986288173984\n",
            "18.37141380428022\n",
            "17.45052713913644\n",
            "18.2824463749417\n",
            "17.88463244073\n",
            "17.967759761818066\n",
            "17.134084716474735\n",
            "17.868251432466398\n",
            "18.19417863184835\n",
            "17.59414745461257\n",
            "16.558576555165594\n",
            "16.35263615487483\n",
            "17.423415639227677\n",
            "17.282700421940927\n",
            "17.96498922778418\n",
            "18.3114200144944\n",
            "18.155745439749282\n",
            "17.618536347674134\n",
            "17.74367869093801\n",
            "18.10926078640479\n",
            "17.87259138052992\n",
            "17.329614801409736\n",
            "17.932806019923895\n",
            "17.646630175485836\n",
            "17.031115875471528\n",
            "17.568501298483707\n",
            "17.81353628703452\n",
            "18.491039505530598\n",
            "18.05928043676696\n",
            "15.977814009477806\n",
            "16.767557886657286\n",
            "17.70458200544522\n",
            "18.099180115646845\n",
            "18.543031835644783\n",
            "18.11332748889052\n",
            "18.042655700188416\n",
            "18.076091640952267\n",
            "17.441891605294565\n",
            "18.24594129008683\n",
            "18.30055412539814\n",
            "18.026603860353372\n",
            "17.476922051243587\n",
            "16.33079732434179\n",
            "17.844153634089476\n",
            "17.621719274511698\n",
            "17.07820223621098\n",
            "17.263849386506855\n",
            "17.87152523307143\n",
            "17.945158709445554\n",
            "17.336706181902354\n",
            "17.64173140581033\n",
            "18.03567312819278\n",
            "18.070406576220655\n",
            "17.386076395365706\n",
            "17.863000630312943\n",
            "17.84901356665021\n",
            "17.022959442512104\n",
            "17.17766164834625\n",
            "17.909451525438204\n",
            "17.97307234130079\n",
            "17.850912696892703\n",
            "16.988622417361647\n",
            "17.147183634089107\n",
            "18.349391897803834\n",
            "17.9945085118067\n",
            "16.5388579788094\n",
            "17.981393992917713\n",
            "18.169115608538952\n",
            "17.915341836168086\n",
            "17.387806202610882\n",
            "17.60271282042673\n",
            "17.932039333048312\n",
            "17.175270058884713\n",
            "16.28817969290036\n",
            "17.604042676426396\n",
            "17.770968561986273\n",
            "17.388094537283855\n",
            "17.534422501295964\n",
            "17.972918309279763\n",
            "17.718418384589388\n",
            "18.13078811771622\n"
          ],
          "name": "stdout"
        },
        {
          "output_type": "stream",
          "text": [
            "127.0.0.1 - - [28/Jul/2021 09:13:56] \"\u001b[37mGET /video_feed HTTP/1.1\u001b[0m\" 200 -\n"
          ],
          "name": "stderr"
        },
        {
          "output_type": "stream",
          "text": [
            "17.53508225506386\n",
            "17.185685369871095\n",
            "18.965449571567454\n",
            "Video Write Completed...\n"
          ],
          "name": "stdout"
        },
        {
          "output_type": "stream",
          "text": [
            "127.0.0.1 - - [28/Jul/2021 09:14:07] \"\u001b[37mGET / HTTP/1.1\u001b[0m\" 200 -\n",
            "127.0.0.1 - - [28/Jul/2021 09:14:08] \"\u001b[33mGET /docs/5.0/dist/css/bootstrap.min.css HTTP/1.1\u001b[0m\" 404 -\n"
          ],
          "name": "stderr"
        },
        {
          "output_type": "stream",
          "text": [
            "9.876666007328078\n",
            "12.42977714556662\n",
            "13.885343317873186\n",
            "15.657515734774785\n",
            "16.42146145895324\n",
            "17.44718801996672\n",
            "17.820953611094588\n",
            "17.94654081322659\n",
            "18.580078142304046\n",
            "18.719473714747323\n",
            "19.10313762462368\n",
            "18.6075267624629\n",
            "18.90978602923275\n",
            "18.842759271322358\n",
            "18.884754615038272\n",
            "18.378980947540008\n",
            "19.26812170102122\n",
            "19.399124003866593\n",
            "19.100962720756332\n",
            "18.566425270464084\n",
            "19.200732449815742\n",
            "19.183520016831245\n",
            "18.813431296032153\n",
            "18.60265758333777\n",
            "19.146739949146586\n",
            "19.16222291259297\n",
            "17.198228637034607\n",
            "17.46666000366465\n",
            "18.546557594516912\n",
            "19.289921125853702\n",
            "19.14560376858961\n",
            "18.521905401168464\n",
            "18.635801783468924\n",
            "19.094354053045134\n",
            "17.8523563061836\n",
            "17.72575669210809\n",
            "18.501887990965876\n",
            "18.6265326695651\n",
            "18.781671062471172\n",
            "17.453213880000167\n",
            "18.120292046485506\n",
            "18.744152373461564\n",
            "18.651049656932717\n",
            "18.118178637304155\n",
            "18.345780207763806\n",
            "17.979698216735255\n",
            "18.68536552768744\n",
            "18.17628067620917\n",
            "18.485253415601587\n",
            "18.635967387199255\n",
            "18.711874085442023\n",
            "18.196862418436762\n",
            "18.210925763509582\n",
            "18.92685216104257\n",
            "18.661671597962226\n",
            "17.619942615409823\n",
            "18.46409579151259\n",
            "17.956836503594104\n",
            "18.697776846572545\n",
            "18.017543708922204\n",
            "18.47792413762721\n",
            "18.463526832682565\n",
            "17.50339693191113\n",
            "17.67891118613777\n",
            "18.176832069339113\n",
            "18.34160846958811\n",
            "18.893857013509436\n",
            "18.00308184928126\n",
            "18.508501202479977\n",
            "18.520024373658785\n",
            "17.61868436528606\n",
            "17.76727990545137\n",
            "18.125773552290408\n",
            "17.3312617764702\n",
            "17.799097803069845\n",
            "16.929103920373592\n",
            "17.602195708464304\n",
            "18.179510740477472\n",
            "18.032649025129516\n",
            "16.06096136688251\n",
            "17.723659412634692\n",
            "18.184476247870176\n",
            "18.181953746450787\n",
            "17.758328111504394\n",
            "18.347947051155302\n",
            "18.214642747024158\n",
            "16.82445908109973\n",
            "17.84020688716483\n",
            "18.482158122482794\n",
            "18.88211910989461\n",
            "16.816769040783925\n",
            "17.501571021435158\n",
            "18.31909782580211\n",
            "18.403334649642403\n",
            "18.191337838189497\n",
            "17.35148060200392\n",
            "18.346020942866392\n",
            "18.527468935388256\n",
            "18.459382619334736\n",
            "17.129606259980314\n",
            "17.695245327595664\n",
            "18.301991517288325\n",
            "17.838310034066406\n",
            "17.059100577950048\n",
            "17.44479335199411\n",
            "16.67310910673753\n",
            "15.538199937021876\n",
            "17.802346309909847\n",
            "17.525191158651236\n",
            "17.13471468723446\n",
            "16.705249783930824\n",
            "17.6143928640422\n",
            "17.524825036037353\n",
            "18.59465785915368\n",
            "17.503981303730907\n",
            "18.236025060760607\n",
            "17.98478650509832\n",
            "17.703386360854463\n",
            "17.615206608793525\n",
            "18.615537565686694\n",
            "18.10543037209704\n",
            "18.122640857241617\n",
            "15.980736112169474\n",
            "17.911057589655556\n",
            "18.2055506845034\n",
            "18.5260777385159\n",
            "17.193505146609713\n",
            "15.730095033790626\n",
            "17.91564793220397\n",
            "18.029160935350756\n",
            "18.27161483404704\n",
            "18.84504510980914\n",
            "17.772098048770154\n",
            "16.06348330958837\n",
            "17.50149799293982\n",
            "18.094729439984125\n",
            "18.281012051343517\n",
            "17.93901860065267\n",
            "17.230587210687613\n",
            "16.74586773559896\n",
            "17.08675973943969\n",
            "17.941934628332856\n",
            "17.416831728393525\n",
            "18.31157990325341\n",
            "17.92598481060266\n",
            "17.696887868763923\n",
            "17.491134130677743\n",
            "17.743378442976983\n",
            "18.270978084256473\n",
            "18.681204347051487\n",
            "16.98635196539798\n",
            "18.262465820227458\n",
            "17.86429401968593\n",
            "17.713330067402065\n",
            "17.094907765921892\n",
            "18.382202899566995\n",
            "17.972071180354703\n",
            "17.78769964121833\n",
            "17.422909007830185\n",
            "16.915176176898786\n",
            "17.811872022014796\n",
            "18.50988976072163\n",
            "17.844457302338245\n",
            "18.09168550182025\n",
            "18.16478781133203\n",
            "18.025596726919538\n",
            "16.81151148342619\n",
            "18.273445736940705\n",
            "17.382905975821526\n",
            "17.859501809665744\n",
            "17.234835348164463\n",
            "17.902724482783643\n",
            "17.605446631324007\n",
            "18.269227251146646\n",
            "17.190686389028922\n",
            "17.869621714660635\n",
            "17.94746233402796\n",
            "17.335631357280725\n",
            "17.20168477347015\n",
            "18.29081775048842\n",
            "17.689051211869447\n",
            "18.980211147463834\n",
            "Video Write Completed...\n"
          ],
          "name": "stdout"
        },
        {
          "output_type": "stream",
          "text": [
            "127.0.0.1 - - [28/Jul/2021 09:14:20] \"\u001b[37mGET /video_feed HTTP/1.1\u001b[0m\" 200 -\n"
          ],
          "name": "stderr"
        }
      ]
    }
  ]
}